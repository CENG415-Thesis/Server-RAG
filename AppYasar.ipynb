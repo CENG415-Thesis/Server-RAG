{
 "cells": [
  {
   "cell_type": "code",
   "execution_count": null,
   "metadata": {},
   "outputs": [
    {
     "name": "stderr",
     "output_type": "stream",
     "text": [
      "c:\\PythonWorkspace\\yasar\\Server-RAG\\helpers\\config.py:11: LangChainDeprecationWarning: The class `Ollama` was deprecated in LangChain 0.3.1 and will be removed in 1.0.0. An updated version of the class exists in the :class:`~langchain-ollama package and should be used instead. To use it run `pip install -U :class:`~langchain-ollama` and import as `from :class:`~langchain_ollama import OllamaLLM``.\n",
      "  llm = Ollama(model=\"llama3.2\")\n",
      "c:\\PythonWorkspace\\yasar\\Server-RAG\\helpers\\config.py:12: LangChainDeprecationWarning: Please see the migration guide at: https://python.langchain.com/docs/versions/migrating_memory/\n",
      "  memory = ConversationBufferMemory()\n"
     ]
    },
    {
     "data": {
      "image/png": "[encoded data removed]",
      "text/plain": [
       "<IPython.core.display.Image object>"
      ]
     },
     "metadata": {},
     "output_type": "display_data"
    }
   ],
   "source": [
    "import gradio as gr\n",
    "from langgraph.graph import StateGraph, END\n",
    "from modules.agent_state import AgentState\n",
    "from modules.nodes import Nodes\n",
    "from helpers.logger import log_event\n",
    "\n",
    "THRESHOLD_SCORE = 0.7\n",
    "\n",
    "def should_continue(state):\n",
    "        if state[\"grader_score\"] >= THRESHOLD_SCORE:\n",
    "            log_event(\"INFO\", \"Response meets quality threshold. Proceeding to memory update.\")\n",
    "            return \"update_memory\"\n",
    "        \n",
    "        if state[\"revision_number\"] >= state[\"max_revisions\"]:\n",
    "            log_event(\"INFO\", \"Max revisions reached. Proceeding with final response.\")\n",
    "            return \"update_memory\"\n",
    "        \n",
    "        log_event(\"INFO\", \"Response needs improvement. Proceeding to revision.\")\n",
    "        return \"revise_response\"\n",
    "\n",
    "def build_stategraph():\n",
    "    builder = StateGraph(AgentState)\n",
    "\n",
    "    # Düğümleri ekle\n",
    "    builder.add_node(\"user_input\", Nodes.user_input_node)\n",
    "    builder.add_node(\"retrieve\", Nodes.retrieve_node)\n",
    "    builder.add_node(\"generate_response\", Nodes.generate_response_node)\n",
    "    builder.add_node(\"evaluate_response\", Nodes.evaluate_response_node)\n",
    "    builder.add_node(\"revise_response\", Nodes.revise_response_node)\n",
    "    builder.add_node(\"update_memory\", Nodes.update_memory_node)\n",
    "\n",
    "    # Başlangıç noktası\n",
    "    builder.set_entry_point(\"user_input\")\n",
    "\n",
    "    # Akış Bağlantıları\n",
    "    builder.add_conditional_edges(\n",
    "        \"evaluate_response\",\n",
    "        should_continue,\n",
    "        {\n",
    "            \"update_memory\": \"update_memory\",\n",
    "            \"revise_response\": \"revise_response\"\n",
    "        }\n",
    "    )\n",
    "    \n",
    "    builder.add_edge(\"user_input\", \"retrieve\")\n",
    "    builder.add_edge(\"retrieve\", \"generate_response\")\n",
    "    builder.add_edge(\"generate_response\", \"evaluate_response\")\n",
    "    \n",
    "    builder.add_edge(\"revise_response\", \"evaluate_response\")\n",
    "    builder.add_edge(\"update_memory\", END)\n",
    "    return builder.compile()\n",
    "\n",
    "rag_graph = build_stategraph()\n",
    "\n",
    "from IPython.display import Image, display\n",
    "\n",
    "display(Image(rag_graph.get_graph().draw_mermaid_png()))\n",
    " \n",
    " \n"
   ]
  },
  {
   "cell_type": "code",
   "execution_count": null,
   "metadata": {},
   "outputs": [
    {
     "name": "stdout",
     "output_type": "stream",
     "text": [
      "Running on local URL:  http://127.0.0.1:7860\n",
      "\n",
      "Could not create share link. Please check your internet connection or our status page: https://status.gradio.app.\n"
     ]
    },
    {
     "name": "stderr",
     "output_type": "stream",
     "text": [
      "2025/03/01 23:53:56 [W] [service.go:132] login to server failed: i/o deadline reached\n"
     ]
    },
    {
     "data": {
      "text/html": [
       "<div><iframe src=\"http://127.0.0.1:7860/\" width=\"100%\" height=\"500\" allow=\"autoplay; camera; microphone; clipboard-read; clipboard-write;\" frameborder=\"0\" allowfullscreen></iframe></div>"
      ],
      "text/plain": [
       "<IPython.core.display.HTML object>"
      ]
     },
     "metadata": {},
     "output_type": "display_data"
    },
    {
     "data": {
      "text/plain": []
     },
     "execution_count": 2,
     "metadata": {},
     "output_type": "execute_result"
    },
    {
     "name": "stdout",
     "output_type": "stream",
     "text": [
      "Grader Output: Here are the key differences between RRC Idle and RRC Inactive states with scores:\n",
      "\n",
      "**Power Management (0.8/1)**\n",
      "In both states, power management is crucial to minimize energy consumption. However, RRC Idle uses reduced transmission power more aggressively to save energy. Score: 0.9\n",
      "RRC Inactive still conserves power but allows for more resources to be available when re-establishing the connection.\n",
      "\n",
      "**No Active Communication (1/1)**\n",
      "In both states, there is no ongoing data transmission or reception of RRC messages. This score is 1 since it's a fundamental characteristic of both states.\n",
      "\n",
      "**Random Access (0.4/1)**\n",
      "RRC Idle allows for random access procedures to be initiated if needed, while RRC Inactive does not have this capability. Score: 0.6\n",
      "This score reflects the limitation in RRC Inactive.\n",
      "\n",
      "**Cell Selection (0.8/1)**\n",
      "In both states, cell selection is possible when a suitable cell becomes available. However, RRC Idle may require more time to select a new cell due to power-saving limitations. Score: 0.9\n",
      "\n",
      "**T310 Timer (0.5/1)**\n",
      "RRC Inactive relies on the T310 timer to determine when to re-establish the connection after a specified time period. Score: 0.4\n",
      "This score reflects the significance of this timer in RRC Inactive.\n",
      "\n",
      "**AS Security (0.2/1)**\n",
      "In RRC Inactive, AS security is activated if it's not already enabled, which affects how long the UE can remain in INACTIVE. Score: 0.4\n",
      "\n",
      "Now, let's calculate the average score:\n",
      "\n",
      "(0.9 + 1 + 0.6 + 0.9 + 0.4) / 5 = 0.63\n",
      "\n",
      "The final score is approximately **0.63**.\n",
      "\n",
      "This indicates that while there are some differences between RRC Idle and RRC Inactive, they share many similarities in terms of power management, cell selection, and lack of active communication. However, the T310 timer and AS security mechanisms distinguish these two states from each other.\n",
      "Grader Output: To answer this question accurately, we need to analyze the text provided about RRC Idle and INACTIVE states in 5G NR. However, there is no specific information given about the differences between these states or any criteria to evaluate them.\n",
      "\n",
      "Given that there's no explicit data or criteria mentioned in the text, it's not possible to provide a float score for each criterion or calculate an average score.\n",
      "\n",
      "However, I can offer a general analysis of what typically might be considered when evaluating RRC Idle and INACTIVE states in 5G NR. Keep in mind this is speculative without more specific information:\n",
      "\n",
      "1.  **Power Management Efficiency** (Score: 0.8) - This criterion would evaluate how effectively the UE balances power consumption with data transmission requirements.\n",
      "2.  **Random Access Procedures** (Score: 0.9) - The efficiency and frequency of random access procedures could impact the UE's ability to quickly re-establish connections or perform other operations.\n",
      "3.  **T310 Timer Performance** (Score: 0.7) - How well the T310 timer functions in determining when to initiate connection re-establishment could be a critical factor.\n",
      "4.  **AS Security Impact** (Score: 0.6) - The activation of AS security and its effects on UE behavior during INACTIVE state operations would be an important consideration.\n",
      "\n",
      "Assuming these scores are subjective evaluations based on general knowledge, we can calculate their average:\n",
      "\n",
      "Average Score = (0.8 + 0.9 + 0.7 + 0.6) / 4\n",
      "\n",
      "Average Score = 3.0 / 4\n",
      "\n",
      "Average Score = 0.75\n",
      "Grader Output: Here are the scores for each criterion with a brief explanation:\n",
      "\n",
      "**Criteria 1: Clearly explains RRC connection management**\n",
      "Score: 0.9\n",
      "Explanation: The response provides a detailed overview of RRC connection management, including random access, paging, authentication, and resource allocation.\n",
      "\n",
      "**Criteria 2: Covers key RRC procedures**\n",
      "Score: 0.8\n",
      "Explanation: The response mentions the key RRC procedures, such as RRCReconfigurationComplete, RRCReconfiguration, and RRCRelease, but could provide more details about their usage and timing relationships.\n",
      "\n",
      "**Criteria 3: Discusses timing relationships**\n",
      "Score: 0.6\n",
      "Explanation: The response briefly mentions the timing relationships between RRC procedures, which is essential for understanding how they interact with each other.\n",
      "\n",
      "**Criteria 4: Provides examples and context**\n",
      "Score: 0.7\n",
      "Explanation: While the response provides some general information about RRC connection management, it could benefit from more specific examples and context to make it easier to understand.\n",
      "\n",
      "**Criteria 5: Is easy to follow and free of errors**\n",
      "Score: 1\n",
      "Explanation: The response is well-written, easy to read, and free of grammatical or spelling errors.\n",
      "\n",
      "Average Score: 0.78\n",
      "\n",
      "Final Score: 0.78\n",
      "Grader Output: I'll provide a float score for each criterion and a short explanation for the score.\n",
      "\n",
      "**Criteria**\n",
      "\n",
      "1. **Clarity**: 0.9 - The response is well-structured, easy to follow, and uses simple language.\n",
      "2. **Accuracy**: 0.8 - The information provided about RRC connection management in NR is accurate, but some technical terms might be unclear to non-experts.\n",
      "3. **Completeness**: 0.7 - While the response covers the basics of RRC connection management, it could benefit from more detailed explanations and examples.\n",
      "4. **Organization**: 0.9 - The response is well-organized, with clear headings and concise paragraphs.\n",
      "5. **Style**: 0.8 - The tone is formal and professional, but some sentences are a bit wordy or could be rephrased for better clarity.\n",
      "\n",
      "**Calculating the average score**\n",
      "\n",
      "Average Score = (Clarity + Accuracy + Completeness + Organization + Style) / 5\n",
      "\n",
      "Average Score = (0.9 + 0.8 + 0.7 + 0.9 + 0.8) / 5\n",
      "Average Score ≈ 0.83\n",
      "\n",
      "**Final Score**: 0.83\n"
     ]
    }
   ],
   "source": [
    "\n",
    "def respond(message, history):\n",
    "    final_state = rag_graph.invoke({\n",
    "        \"user_query\": message, \n",
    "        \"max_revisions\": 2,\n",
    "        \"revision_number\": 1,})\n",
    "    ai_response = final_state.get(\"response\", \"I don't have an answer for that.\")\n",
    "    return ai_response\n",
    "\n",
    "demo = gr.ChatInterface(\n",
    "    fn=respond,\n",
    "    title=\"IZTECH Telecom RAG Assistant 🤖\",\n",
    "    theme=gr.themes.Soft()\n",
    ")\n",
    "\n",
    "demo.launch(share=True)"
   ]
  },
  {
   "cell_type": "code",
   "execution_count": null,
   "metadata": {},
   "outputs": [],
   "source": []
  }
 ],
 "metadata": {
  "kernelspec": {
   "display_name": "LangChainEnv",
   "language": "python",
   "name": "python3"
  },
  "language_info": {
   "codemirror_mode": {
    "name": "ipython",
    "version": 3
   },
   "file_extension": ".py",
   "mimetype": "text/x-python",
   "name": "python",
   "nbconvert_exporter": "python",
   "pygments_lexer": "ipython3",
   "version": "3.9.20"
  }
 },
 "nbformat": 4,
 "nbformat_minor": 2
}
