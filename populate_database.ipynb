{
 "cells": [
  {
   "cell_type": "code",
   "execution_count": 2,
   "id": "1a5f18a3-7e3a-4870-b66f-983fa2b5d68f",
   "metadata": {},
   "outputs": [],
   "source": [
    "import glob\n",
    "from langchain_community.document_loaders import PyMuPDFLoader,DirectoryLoader\n",
    "from langchain.text_splitter import CharacterTextSplitter,RecursiveCharacterTextSplitter\n",
    "from langchain.schema import Document\n",
    "import pymupdf\n",
    "import os"
   ]
  },
  {
   "cell_type": "code",
   "execution_count": 3,
   "id": "737e23fc-52ee-4570-89e5-fd790eabd588",
   "metadata": {},
   "outputs": [
    {
     "name": "stdout",
     "output_type": "stream",
     "text": [
      "['../knowledge_base/3GPP', '../knowledge_base/articles']\n"
     ]
    }
   ],
   "source": [
    "# PDF dosyasını yükleme\n",
    "pdf_folders_path =glob.glob(\"../knowledge_base/*\")\n",
    "text_loader_kwargs = {'encoding': 'utf-8'}\n",
    "print(pdf_folders_path)\n"
   ]
  },
  {
   "cell_type": "code",
   "execution_count": 4,
   "id": "4e415f63-71b9-4a59-9bba-e0696bfdaac7",
   "metadata": {},
   "outputs": [
    {
     "name": "stdout",
     "output_type": "stream",
     "text": [
      "Processing folder: ../knowledge_base/3GPP\n",
      "Processing folder: ../knowledge_base/articles\n"
     ]
    }
   ],
   "source": [
    "chunked_documents = []\n",
    "\n",
    "for pdf_folder in pdf_folders_path:\n",
    "    \n",
    "    print(f\"Processing folder: {pdf_folder}\")\n",
    "\n",
    "    loader = DirectoryLoader(pdf_folder, glob=\"**/*.pdf\", loader_cls=PyMuPDFLoader)\n",
    "    folder_docs = loader.load()\n",
    "\n",
    "\n",
    "    pdf_files = glob.glob(os.path.join(pdf_folder, \"*.pdf\"))\n",
    "\n",
    "\n",
    "    for pdf_path in pdf_files:\n",
    "        # PDF dosyasını aç\n",
    "        pdf_open = pymupdf.open(pdf_path)\n",
    "        \n",
    "        # Table of Contents (TOC) al\n",
    "        toc = pdf_open.get_toc()\n",
    "\n",
    "        for i, item in enumerate(toc):\n",
    "            heading = item[1]\n",
    "            start_page = item[2]\n",
    "\n",
    "            if i + 1 < len(toc):\n",
    "                end_page = toc[i + 1][2] - 1\n",
    "            else:\n",
    "                end_page = pdf_open.page_count  # Son başlıksa PDF'in son sayfasına kadar\n",
    "    \n",
    "            # Sonraki başlığın sayfasına kadar olan kısmı almak\n",
    "            if i + 1 < len(toc):\n",
    "                end_page = toc[i + 1][2] - 1\n",
    "            else:\n",
    "                end_page = pdf_open.page_count -  1   # Son başlıksa PDF'in son sayfasına kadar\n",
    "\n",
    "            # Metni birleştirerek chunk oluştur\n",
    "            chunk_text = \"\"\n",
    "            for page_num in range(start_page, end_page):  # PyMuPDF için 0-index\n",
    "                chunk_text += pdf_open[page_num].get_text()\n",
    "\n",
    "        # İlk chunk'ları oluştur ve listeye ekle\n",
    "            chunked_documents.append(\n",
    "                Document(\n",
    "                    page_content=chunk_text,\n",
    "                    metadata={\"heading\": heading, \"start_page\": start_page, \"end_page\": end_page}\n",
    "                )\n",
    "            )\n"
   ]
  },
  {
   "cell_type": "code",
   "execution_count": 5,
   "id": "ff30dbf2-4b56-463d-9ba5-a412fbf05283",
   "metadata": {},
   "outputs": [],
   "source": [
    "# CharacterTextSplitter kullanarak ek parçalama\n",
    "text_splitter = RecursiveCharacterTextSplitter(chunk_size=1000, chunk_overlap=200)\n",
    "\n",
    "# TOC'ye göre bölünmüş metinleri tekrar split ediyoruz\n",
    "final_chunks = text_splitter.split_documents(chunked_documents)\n",
    "\n",
    "# Çıktıyı kontrol etmek için"
   ]
  },
  {
   "cell_type": "code",
   "execution_count": 6,
   "id": "e454f413-c4fa-4910-b61d-e960c7527c2e",
   "metadata": {},
   "outputs": [
    {
     "data": {
      "text/plain": [
       "1072"
      ]
     },
     "execution_count": 6,
     "metadata": {},
     "output_type": "execute_result"
    }
   ],
   "source": [
    "len(chunked_documents)"
   ]
  },
  {
   "cell_type": "code",
   "execution_count": 7,
   "id": "8aae271e-d6a6-4c86-b095-137607c7644c",
   "metadata": {},
   "outputs": [],
   "source": [
    "from langchain_ollama import OllamaEmbeddings\n",
    "\n",
    "embeddings = OllamaEmbeddings(\n",
    "    model=\"nomic-embed-text\"\n",
    ")\n",
    "\n",
    "# Create our Chroma vectorstore!\n",
    "db_name = \"vector-db\""
   ]
  },
  {
   "cell_type": "code",
   "execution_count": 8,
   "id": "ef67dc0c-7eb7-4903-ae16-238852722b43",
   "metadata": {},
   "outputs": [
    {
     "name": "stdout",
     "output_type": "stream",
     "text": [
      "Vectorstore created with 1416 documents\n"
     ]
    }
   ],
   "source": [
    "import torch\n",
    "from langchain_chroma import Chroma\n",
    "import os\n",
    "\n",
    "if os.path.exists(db_name):\n",
    "    Chroma(persist_directory=db_name, embedding_function=embeddings).delete_collection()\n",
    "\n",
    "# Create our Chroma vectorstore!\n",
    "\n",
    "vectorstore = Chroma.from_documents(documents=final_chunks, embedding=embeddings, persist_directory=db_name)\n",
    "print(f\"Vectorstore created with {vectorstore._collection.count()} documents\")"
   ]
  },
  {
   "cell_type": "code",
   "execution_count": null,
   "id": "eb7db7f0-46a7-4fa1-89bc-de8a71845e0f",
   "metadata": {},
   "outputs": [],
   "source": []
  }
 ],
 "metadata": {
  "kernelspec": {
   "display_name": "Python 3 (ipykernel)",
   "language": "python",
   "name": "python3"
  },
  "language_info": {
   "codemirror_mode": {
    "name": "ipython",
    "version": 3
   },
   "file_extension": ".py",
   "mimetype": "text/x-python",
   "name": "python",
   "nbconvert_exporter": "python",
   "pygments_lexer": "ipython3",
   "version": "3.12.4"
  }
 },
 "nbformat": 4,
 "nbformat_minor": 5
}
